{
 "cells": [
  {
   "cell_type": "markdown",
   "metadata": {
    "tags": []
   },
   "source": [
    "# Lab | Data Structures "
   ]
  },
  {
   "cell_type": "markdown",
   "metadata": {},
   "source": [
    "## Exercise: Managing Customer Orders\n",
    "\n",
    "As part of a business venture, you are starting an online store that sells various products. To ensure smooth operations, you need to develop a program that manages customer orders and inventory.\n",
    "\n",
    "Follow the steps below to complete the exercise:\n",
    "\n",
    "1. Define a list called `products` that contains the following items: \"t-shirt\", \"mug\", \"hat\", \"book\", \"keychain\".\n",
    "\n",
    "2. Create an empty dictionary called `inventory`.\n",
    "\n",
    "3. Ask the user to input the quantity of each product available in the inventory. Use the product names from the `products` list as keys in the `inventory` dictionary and assign the respective quantities as values.\n",
    "\n",
    "4. Create an empty set called `customer_orders`.\n",
    "\n",
    "5. Ask the user to input the name of three products that a customer wants to order (from those in the products list, meaning three products out of \"t-shirt\", \"mug\", \"hat\", \"book\" or \"keychain\". Add each product name to the `customer_orders` set.\n",
    "\n",
    "6. Print the products in the `customer_orders` set.\n",
    "\n",
    "7. Calculate the following order statistics:\n",
    "   - Total Products Ordered: The total number of products in the `customer_orders` set.\n",
    "   - Percentage of Products Ordered: The percentage of products ordered compared to the total available products.\n",
    "   \n",
    "   Store these statistics in a tuple called `order_status`.\n",
    "\n",
    "8. Print the order statistics using the following format:\n",
    "   ```\n",
    "   Order Statistics:\n",
    "   Total Products Ordered: <total_products_ordered>\n",
    "   Percentage of Products Ordered: <percentage_ordered>% \n",
    "   ```\n",
    "\n",
    "9. Update the inventory by subtracting 1 from the quantity of each product. Modify the `inventory` dictionary accordingly.\n",
    "\n",
    "10. Print the updated inventory, displaying the quantity of each product on separate lines.\n",
    "\n",
    "Solve the exercise by implementing the steps using the Python concepts of lists, dictionaries, sets, and basic input/output operations. "
   ]
  },
  {
   "cell_type": "code",
   "execution_count": 19,
   "metadata": {},
   "outputs": [
    {
     "name": "stdout",
     "output_type": "stream",
     "text": [
      "Enter the quantity of t-shirts available in the inventory: 9\n",
      "Enter the quantity of mugs available in the inventory: 8\n",
      "Enter the quantity of hats available in the inventory: 7\n",
      "Enter the quantity of books available in the inventory: 6\n",
      "Enter the quantity of keychains available in the inventory: 5\n",
      "Inventory: {'t-shirt': 9, 'mug': 8, 'hat': 7, 'book': 6, 'keychain': 5}\n",
      "Enter the name of product 1: book\n",
      "Enter the name of product 2: hat\n",
      "Enter the name of product 3: mug\n",
      "Customer orders: {'hat', 'book', 'mug'}\n",
      "\n",
      "Order Statistics: \n",
      "Total Products Ordered: 3\n",
      "Percentage of Products Ordered: 60.00%\n",
      "\n",
      " Updated Inventory:\n",
      "Product: t-shirt\n",
      "Quantity: 9\n",
      "Product: mug\n",
      "Quantity: 7\n",
      "Product: hat\n",
      "Quantity: 6\n",
      "Product: book\n",
      "Quantity: 5\n",
      "Product: keychain\n",
      "Quantity: 5\n"
     ]
    }
   ],
   "source": [
    "products = ['t-shirt', 'mug', 'hat', 'book', 'keychain']\n",
    "inventory = {}\n",
    "\n",
    "\n",
    "for product in products:\n",
    "    quantity = int(input(f\"Enter the quantity of {product}s available in the inventory: \"))\n",
    "    inventory[product] = quantity\n",
    "\n",
    "print(\"Inventory:\", inventory)\n",
    "\n",
    "customer_orders = set()\n",
    "\n",
    "for i in range(3):\n",
    "    product = input(f\"Enter the name of product {i+1}: \").strip().lower()\n",
    "    \n",
    "    if product in products:\n",
    "        customer_orders.add(product)\n",
    "        \n",
    "    else:\n",
    "        print(\"Invalid product name. Please enter a valid product.\")\n",
    "        \n",
    "print(\"Customer orders:\", customer_orders)\n",
    "    \n",
    "    \n",
    "total_products_ordered = len(customer_orders)\n",
    "percentage_of_products_ordered = (len(customer_orders) / len(products)) * 100\n",
    "order_status = (total_products_ordered, percentage_of_products_ordered)\n",
    "\n",
    "\n",
    "print(\"\\n Order Statistics: \")\n",
    "print(f\"Total Products Ordered: {total_products_ordered}\")\n",
    "print(f\"Percentage of Products Ordered: {percentage_of_products_ordered:.2f}%\") \n",
    "\n",
    "\n",
    "for product in customer_orders:\n",
    "        inventory[product] -= 1\n",
    "        \n",
    "\n",
    "print(\"\\n Updated Inventory:\")\n",
    "\n",
    "for product, quantity in inventory.items():\n",
    "    print(f\"Product: {product}\")\n",
    "    print(f\"Quantity: {quantity}\")"
   ]
  },
  {
   "cell_type": "code",
   "execution_count": null,
   "metadata": {},
   "outputs": [],
   "source": []
  },
  {
   "cell_type": "code",
   "execution_count": null,
   "metadata": {},
   "outputs": [],
   "source": []
  }
 ],
 "metadata": {
  "kernelspec": {
   "display_name": "Python 3 (ipykernel)",
   "language": "python",
   "name": "python3"
  },
  "language_info": {
   "codemirror_mode": {
    "name": "ipython",
    "version": 3
   },
   "file_extension": ".py",
   "mimetype": "text/x-python",
   "name": "python",
   "nbconvert_exporter": "python",
   "pygments_lexer": "ipython3",
   "version": "3.11.5"
  }
 },
 "nbformat": 4,
 "nbformat_minor": 4
}
